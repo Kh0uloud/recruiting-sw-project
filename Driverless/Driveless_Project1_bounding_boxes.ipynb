{
  "nbformat": 4,
  "nbformat_minor": 0,
  "metadata": {
    "colab": {
      "provenance": []
    },
    "kernelspec": {
      "name": "python3",
      "display_name": "Python 3"
    },
    "accelerator": "GPU"
  },
  "cells": [
    {
      "cell_type": "markdown",
      "metadata": {
        "id": "GD9gUQpaBxNa"
      },
      "source": [
        "# How to Train YOLOv5 on Custom Objects\n",
        "\n",
        "This tutorial is based on the [YOLOv5 repository](https://github.com/ultralytics/yolov5) by [Ultralytics](https://www.ultralytics.com/). This notebook shows training on **your own custom objects**. Many thanks to Ultralytics for putting this repository together - we hope that in combination with clean data management tools at Roboflow, this technologoy will become easily accessible to any developer wishing to use computer vision in their projects.\n",
        "\n",
        "### Accompanying Blog Post\n",
        "\n",
        "We recommend that you follow along in this notebook while reading the blog post on [how to train YOLOv5](https://blog.roboflow.ai/how-to-train-yolov5-on-a-custom-dataset/), concurrently.\n",
        "\n",
        "### Steps Covered in this Tutorial\n",
        "\n",
        "In this tutorial, we will walk through the steps required to train YOLOv5 on your custom objects. We use a [public blood cell detection dataset](https://public.roboflow.ai/object-detection/bccd), which is open source and free to use. You can also use this notebook on your own data.\n",
        "\n",
        "To train our detector we take the following steps:\n",
        "\n",
        "* Install YOLOv5 dependencies\n",
        "* Download custom YOLOv5 object detection data\n",
        "* Write our YOLOv5 Training configuration\n",
        "* Run YOLOv5 training\n",
        "* Evaluate YOLOv5 performance\n",
        "* Visualize YOLOv5 training data\n",
        "* Run YOLOv5 inference on test images\n",
        "* Export saved YOLOv5 weights for future inference\n",
        "\n",
        "\n",
        "\n",
        "### **About**\n",
        "\n",
        "[Roboflow](https://roboflow.com) enables teams to deploy custom computer vision models quickly and accurately. Convert data from to annotation format, assess dataset health, preprocess, augment, and more. It's free for your first 1000 source images.\n",
        "\n",
        "**Looking for a vision model available via API without hassle? Try Roboflow Train.**\n",
        "\n",
        "![Roboflow Wordmark](https://i.imgur.com/dcLNMhV.png)\n",
        "\n"
      ]
    },
    {
      "cell_type": "markdown",
      "metadata": {
        "id": "7mGmQbAO5pQb"
      },
      "source": [
        "#Install Dependencies\n",
        "\n",
        "_(Remember to choose GPU in Runtime if not already selected. Runtime --> Change Runtime Type --> Hardware accelerator --> GPU)_"
      ]
    },
    {
      "cell_type": "code",
      "metadata": {
        "colab": {
          "base_uri": "https://localhost:8080/"
        },
        "id": "Ie5uLDH4uzAp",
        "outputId": "1a3d551e-326a-40e4-b68d-5c5fcfd62b5a"
      },
      "source": [
        "# clone YOLOv5 repository\n",
        "!git clone https://github.com/ultralytics/yolov5  # clone repo\n",
        "%cd yolov5\n",
        "!git reset --hard fbe67e465375231474a2ad80a4389efc77ecff99"
      ],
      "execution_count": null,
      "outputs": [
        {
          "output_type": "stream",
          "name": "stdout",
          "text": [
            "Cloning into 'yolov5'...\n",
            "remote: Enumerating objects: 15352, done.\u001b[K\n",
            "remote: Total 15352 (delta 0), reused 0 (delta 0), pack-reused 15352\u001b[K\n",
            "Receiving objects: 100% (15352/15352), 14.33 MiB | 24.38 MiB/s, done.\n",
            "Resolving deltas: 100% (10497/10497), done.\n",
            "/content/yolov5\n",
            "HEAD is now at fbe67e4 Fix `OMP_NUM_THREADS=1` for macOS (#8624)\n"
          ]
        }
      ]
    },
    {
      "cell_type": "code",
      "metadata": {
        "id": "wbvMlHd_QwMG",
        "colab": {
          "base_uri": "https://localhost:8080/"
        },
        "outputId": "d8a02d00-9e5a-4930-bdf8-186db6f1d098"
      },
      "source": [
        "# install dependencies as necessary\n",
        "!pip install -qr requirements.txt  # install dependencies (ignore errors)\n",
        "import torch\n",
        "\n",
        "from IPython.display import Image, clear_output  # to display images\n",
        "from utils.downloads import attempt_download  # to download models/datasets\n",
        "\n",
        "# clear_output()\n",
        "print('Setup complete. Using torch %s %s' % (torch.__version__, torch.cuda.get_device_properties(0) if torch.cuda.is_available() else 'CPU'))"
      ],
      "execution_count": null,
      "outputs": [
        {
          "output_type": "stream",
          "name": "stdout",
          "text": [
            "\u001b[?25l     \u001b[90m━━━━━━━━━━━━━━━━━━━━━━━━━━━━━━━━━━━━━━━━\u001b[0m \u001b[32m0.0/1.6 MB\u001b[0m \u001b[31m?\u001b[0m eta \u001b[36m-:--:--\u001b[0m\r\u001b[2K     \u001b[91m━━━━━━━━━━━━━━━\u001b[0m\u001b[90m╺\u001b[0m\u001b[90m━━━━━━━━━━━━━━━━━━━━━━━━\u001b[0m \u001b[32m0.6/1.6 MB\u001b[0m \u001b[31m18.8 MB/s\u001b[0m eta \u001b[36m0:00:01\u001b[0m\r\u001b[2K     \u001b[91m━━━━━━━━━━━━━━━━━━━━━━━━━━━━━━━━\u001b[0m\u001b[90m╺\u001b[0m\u001b[90m━━━━━━━\u001b[0m \u001b[32m1.3/1.6 MB\u001b[0m \u001b[31m18.0 MB/s\u001b[0m eta \u001b[36m0:00:01\u001b[0m\r\u001b[2K     \u001b[91m━━━━━━━━━━━━━━━━━━━━━━━━━━━━━━━━━━━━━━━\u001b[0m\u001b[91m╸\u001b[0m \u001b[32m1.6/1.6 MB\u001b[0m \u001b[31m17.9 MB/s\u001b[0m eta \u001b[36m0:00:01\u001b[0m\r\u001b[2K     \u001b[90m━━━━━━━━━━━━━━━━━━━━━━━━━━━━━━━━━━━━━━━━\u001b[0m \u001b[32m1.6/1.6 MB\u001b[0m \u001b[31m11.3 MB/s\u001b[0m eta \u001b[36m0:00:00\u001b[0m\n",
            "\u001b[?25hSetup complete. Using torch 1.13.1+cu116 _CudaDeviceProperties(name='Tesla T4', major=7, minor=5, total_memory=15101MB, multi_processor_count=40)\n"
          ]
        }
      ]
    },
    {
      "cell_type": "markdown",
      "metadata": {
        "id": "SDIhrBF0sPaM"
      },
      "source": [
        "# Download Correctly Formatted Custom Dataset \n",
        "\n",
        "We'll download our dataset from Roboflow. Use the \"**YOLOv5 PyTorch**\" export format. Note that the Ultralytics implementation calls for a YAML file defining where your training and test data is. The Roboflow export also writes this format for us.\n",
        "\n",
        "To get your data into Roboflow, follow the [Getting Started Guide](https://blog.roboflow.ai/getting-started-with-roboflow/)."
      ]
    },
    {
      "cell_type": "markdown",
      "metadata": {
        "id": "vDeebwqS9JbZ"
      },
      "source": [
        "\n",
        "\n",
        "![YOLOv5 PyTorch export](https://i.imgur.com/5vr9G2u.png)\n"
      ]
    },
    {
      "cell_type": "code",
      "metadata": {
        "id": "Knxi2ncxWffW",
        "colab": {
          "base_uri": "https://localhost:8080/"
        },
        "outputId": "0f6cf834-2c11-460d-bfc5-0ebcb5a33944"
      },
      "source": [
        "#follow the link below to get your download code from from Roboflow\n",
        "!pip install -q roboflow\n",
        "from roboflow import Roboflow\n",
        "rf = Roboflow(api_key=\"h87WWSdUbQNa1V982MQb\")\n",
        "project = rf.workspace(\"cones-2uvel\").project(\"conefinder-1.0\")\n",
        "dataset = project.version(1).download(\"yolov5\")"
      ],
      "execution_count": null,
      "outputs": [
        {
          "output_type": "stream",
          "name": "stdout",
          "text": [
            "loading Roboflow workspace...\n",
            "loading Roboflow project...\n",
            "Downloading Dataset Version Zip in Conefinder-1.0-1 to yolov5pytorch: 99% [285212672 / 287495569] bytes"
          ]
        },
        {
          "output_type": "stream",
          "name": "stderr",
          "text": [
            "Extracting Dataset Version Zip to Conefinder-1.0-1 in yolov5pytorch:: 100%|██████████| 11038/11038 [00:03<00:00, 2928.04it/s]\n"
          ]
        }
      ]
    },
    {
      "cell_type": "code",
      "metadata": {
        "id": "Ug_PhK1oqwQA",
        "colab": {
          "base_uri": "https://localhost:8080/"
        },
        "outputId": "787d87c1-9d4f-4484-fce3-286336e1d710"
      },
      "source": [
        "%cd /content/yolov5\n",
        "#after following the link above, recieve python code with these fields filled in\n",
        "#from roboflow import Roboflow\n",
        "#rf = Roboflow(api_key=\"YOUR API KEY HERE\")\n",
        "#project = rf.workspace().project(\"YOUR PROJECT\")\n",
        "#dataset = project.version(\"YOUR VERSION\").download(\"yolov5\")"
      ],
      "execution_count": null,
      "outputs": [
        {
          "output_type": "stream",
          "name": "stdout",
          "text": [
            "/content/yolov5\n"
          ]
        }
      ]
    },
    {
      "cell_type": "code",
      "metadata": {
        "id": "ZZ3DmmGQztJj",
        "colab": {
          "base_uri": "https://localhost:8080/"
        },
        "outputId": "9495d017-a42c-4c16-9ddf-2a17a7e2708d"
      },
      "source": [
        "# this is the YAML file Roboflow wrote for us that we're loading into this notebook with our data\n",
        "%cat {dataset.location}/data.yaml"
      ],
      "execution_count": null,
      "outputs": [
        {
          "output_type": "stream",
          "name": "stdout",
          "text": [
            "names:\n",
            "- cone\n",
            "nc: 1\n",
            "roboflow:\n",
            "  license: CC BY 4.0\n",
            "  project: conefinder-1.0\n",
            "  url: https://universe.roboflow.com/cones-2uvel/conefinder-1.0/dataset/1\n",
            "  version: 1\n",
            "  workspace: cones-2uvel\n",
            "test: ../test/images\n",
            "train: Conefinder-1.0-1/train/images\n",
            "val: Conefinder-1.0-1/valid/images\n"
          ]
        }
      ]
    },
    {
      "cell_type": "markdown",
      "metadata": {
        "id": "UwJx-2NHsYxT"
      },
      "source": [
        "# Define Model Configuration and Architecture\n",
        "\n",
        "We will write a yaml script that defines the parameters for our model like the number of classes, anchors, and each layer.\n",
        "\n",
        "You do not need to edit these cells, but you may."
      ]
    },
    {
      "cell_type": "code",
      "metadata": {
        "id": "dOPn9wjOAwwK"
      },
      "source": [
        "# define number of classes based on YAML\n",
        "import yaml\n",
        "with open(dataset.location + \"/data.yaml\", 'r') as stream:\n",
        "    num_classes = str(yaml.safe_load(stream)['nc'])"
      ],
      "execution_count": null,
      "outputs": []
    },
    {
      "cell_type": "code",
      "metadata": {
        "id": "1Rvt5wilnDyX",
        "colab": {
          "base_uri": "https://localhost:8080/"
        },
        "outputId": "0c974f5c-b1ed-4bc2-d339-2d52806bcb49"
      },
      "source": [
        "#this is the model configuration we will use for our tutorial \n",
        "%cat /content/yolov5/models/yolov5s.yaml"
      ],
      "execution_count": null,
      "outputs": [
        {
          "output_type": "stream",
          "name": "stdout",
          "text": [
            "# YOLOv5 🚀 by Ultralytics, GPL-3.0 license\n",
            "\n",
            "# Parameters\n",
            "nc: 80  # number of classes\n",
            "depth_multiple: 0.33  # model depth multiple\n",
            "width_multiple: 0.50  # layer channel multiple\n",
            "anchors:\n",
            "  - [10,13, 16,30, 33,23]  # P3/8\n",
            "  - [30,61, 62,45, 59,119]  # P4/16\n",
            "  - [116,90, 156,198, 373,326]  # P5/32\n",
            "\n",
            "# YOLOv5 v6.0 backbone\n",
            "backbone:\n",
            "  # [from, number, module, args]\n",
            "  [[-1, 1, Conv, [64, 6, 2, 2]],  # 0-P1/2\n",
            "   [-1, 1, Conv, [128, 3, 2]],  # 1-P2/4\n",
            "   [-1, 3, C3, [128]],\n",
            "   [-1, 1, Conv, [256, 3, 2]],  # 3-P3/8\n",
            "   [-1, 6, C3, [256]],\n",
            "   [-1, 1, Conv, [512, 3, 2]],  # 5-P4/16\n",
            "   [-1, 9, C3, [512]],\n",
            "   [-1, 1, Conv, [1024, 3, 2]],  # 7-P5/32\n",
            "   [-1, 3, C3, [1024]],\n",
            "   [-1, 1, SPPF, [1024, 5]],  # 9\n",
            "  ]\n",
            "\n",
            "# YOLOv5 v6.0 head\n",
            "head:\n",
            "  [[-1, 1, Conv, [512, 1, 1]],\n",
            "   [-1, 1, nn.Upsample, [None, 2, 'nearest']],\n",
            "   [[-1, 6], 1, Concat, [1]],  # cat backbone P4\n",
            "   [-1, 3, C3, [512, False]],  # 13\n",
            "\n",
            "   [-1, 1, Conv, [256, 1, 1]],\n",
            "   [-1, 1, nn.Upsample, [None, 2, 'nearest']],\n",
            "   [[-1, 4], 1, Concat, [1]],  # cat backbone P3\n",
            "   [-1, 3, C3, [256, False]],  # 17 (P3/8-small)\n",
            "\n",
            "   [-1, 1, Conv, [256, 3, 2]],\n",
            "   [[-1, 14], 1, Concat, [1]],  # cat head P4\n",
            "   [-1, 3, C3, [512, False]],  # 20 (P4/16-medium)\n",
            "\n",
            "   [-1, 1, Conv, [512, 3, 2]],\n",
            "   [[-1, 10], 1, Concat, [1]],  # cat head P5\n",
            "   [-1, 3, C3, [1024, False]],  # 23 (P5/32-large)\n",
            "\n",
            "   [[17, 20, 23], 1, Detect, [nc, anchors]],  # Detect(P3, P4, P5)\n",
            "  ]\n"
          ]
        }
      ]
    },
    {
      "cell_type": "code",
      "metadata": {
        "id": "t14hhyqdmw6O"
      },
      "source": [
        "#customize iPython writefile so we can write variables\n",
        "from IPython.core.magic import register_line_cell_magic\n",
        "\n",
        "@register_line_cell_magic\n",
        "def writetemplate(line, cell):\n",
        "    with open(line, 'w') as f:\n",
        "        f.write(cell.format(**globals()))"
      ],
      "execution_count": null,
      "outputs": []
    },
    {
      "cell_type": "code",
      "metadata": {
        "id": "uDxebz13RdRA"
      },
      "source": [
        "%%writetemplate /content/yolov5/models/custom_yolov5s.yaml\n",
        "\n",
        "# parameters\n",
        "nc: {num_classes}  # number of classes\n",
        "depth_multiple: 0.33  # model depth multiple\n",
        "width_multiple: 0.50  # layer channel multiple\n",
        "\n",
        "# anchors\n",
        "anchors:\n",
        "  - [10,13, 16,30, 33,23]  # P3/8\n",
        "  - [30,61, 62,45, 59,119]  # P4/16\n",
        "  - [116,90, 156,198, 373,326]  # P5/32\n",
        "\n",
        "# YOLOv5 backbone\n",
        "backbone:\n",
        "  # [from, number, module, args]\n",
        "  [[-1, 1, Focus, [64, 3]],  # 0-P1/2\n",
        "   [-1, 1, Conv, [128, 3, 2]],  # 1-P2/4\n",
        "   [-1, 3, BottleneckCSP, [128]],\n",
        "   [-1, 1, Conv, [256, 3, 2]],  # 3-P3/8\n",
        "   [-1, 9, BottleneckCSP, [256]],\n",
        "   [-1, 1, Conv, [512, 3, 2]],  # 5-P4/16\n",
        "   [-1, 9, BottleneckCSP, [512]],\n",
        "   [-1, 1, Conv, [1024, 3, 2]],  # 7-P5/32\n",
        "   [-1, 1, SPP, [1024, [5, 9, 13]]],\n",
        "   [-1, 3, BottleneckCSP, [1024, False]],  # 9\n",
        "  ]\n",
        "\n",
        "# YOLOv5 head\n",
        "head:\n",
        "  [[-1, 1, Conv, [512, 1, 1]],\n",
        "   [-1, 1, nn.Upsample, [None, 2, 'nearest']],\n",
        "   [[-1, 6], 1, Concat, [1]],  # cat backbone P4\n",
        "   [-1, 3, BottleneckCSP, [512, False]],  # 13\n",
        "\n",
        "   [-1, 1, Conv, [256, 1, 1]],\n",
        "   [-1, 1, nn.Upsample, [None, 2, 'nearest']],\n",
        "   [[-1, 4], 1, Concat, [1]],  # cat backbone P3\n",
        "   [-1, 3, BottleneckCSP, [256, False]],  # 17 (P3/8-small)\n",
        "\n",
        "   [-1, 1, Conv, [256, 3, 2]],\n",
        "   [[-1, 14], 1, Concat, [1]],  # cat head P4\n",
        "   [-1, 3, BottleneckCSP, [512, False]],  # 20 (P4/16-medium)\n",
        "\n",
        "   [-1, 1, Conv, [512, 3, 2]],\n",
        "   [[-1, 10], 1, Concat, [1]],  # cat head P5\n",
        "   [-1, 3, BottleneckCSP, [1024, False]],  # 23 (P5/32-large)\n",
        "\n",
        "   [[17, 20, 23], 1, Detect, [nc, anchors]],  # Detect(P3, P4, P5)\n",
        "  ]"
      ],
      "execution_count": null,
      "outputs": []
    },
    {
      "cell_type": "markdown",
      "metadata": {
        "id": "VUOiNLtMP5aG"
      },
      "source": [
        "# Train Custom YOLOv5 Detector\n",
        "\n",
        "### Next, we'll fire off training!\n",
        "\n",
        "\n",
        "Here, we are able to pass a number of arguments:\n",
        "- **img:** define input image size\n",
        "- **batch:** determine batch size\n",
        "- **epochs:** define the number of training epochs. (Note: often, 3000+ are common here!)\n",
        "- **data:** set the path to our yaml file\n",
        "- **cfg:** specify our model configuration\n",
        "- **weights:** specify a custom path to weights. (Note: you can download weights from the Ultralytics Google Drive [folder](https://drive.google.com/open?id=1Drs_Aiu7xx6S-ix95f9kNsA6ueKRpN2J))\n",
        "- **name:** result names\n",
        "- **nosave:** only save the final checkpoint\n",
        "- **cache:** cache images for faster training"
      ]
    },
    {
      "cell_type": "code",
      "metadata": {
        "id": "1NcFxRcFdJ_O",
        "colab": {
          "base_uri": "https://localhost:8080/"
        },
        "outputId": "2ba3071d-d04c-4da8-b334-1f2ea0a4cb22"
      },
      "source": [
        "# train yolov5s on custom data for 100 epochs\n",
        "# time its performance\n",
        "%%time\n",
        "%cd /content/yolov5/\n",
        "!python train.py --img 416 --batch 16 --epochs 20 --data {dataset.location}/data.yaml --cfg ./models/custom_yolov5s.yaml --weights '' --name yolov5s_results  --cache"
      ],
      "execution_count": null,
      "outputs": [
        {
          "output_type": "stream",
          "name": "stdout",
          "text": [
            "/content/yolov5\n",
            "\u001b[34m\u001b[1mtrain: \u001b[0mweights=, cfg=./models/custom_yolov5s.yaml, data=/content/yolov5/Conefinder-1.0-1/data.yaml, hyp=data/hyps/hyp.scratch-low.yaml, epochs=20, batch_size=16, imgsz=416, rect=False, resume=False, nosave=False, noval=False, noautoanchor=False, noplots=False, evolve=None, bucket=, cache=ram, image_weights=False, device=, multi_scale=False, single_cls=False, optimizer=SGD, sync_bn=False, workers=8, project=runs/train, name=yolov5s_results, exist_ok=False, quad=False, cos_lr=False, label_smoothing=0.0, patience=100, freeze=[0], save_period=-1, seed=0, local_rank=-1, entity=None, upload_dataset=False, bbox_interval=-1, artifact_alias=latest\n",
            "\u001b[34m\u001b[1mgithub: \u001b[0m⚠️ YOLOv5 is out of date by 495 commits. Use `git pull` or `git clone https://github.com/ultralytics/yolov5` to update.\n",
            "YOLOv5 🚀 v6.1-306-gfbe67e4 Python-3.9.16 torch-1.13.1+cu116 CUDA:0 (Tesla T4, 15102MiB)\n",
            "\n",
            "\u001b[34m\u001b[1mhyperparameters: \u001b[0mlr0=0.01, lrf=0.01, momentum=0.937, weight_decay=0.0005, warmup_epochs=3.0, warmup_momentum=0.8, warmup_bias_lr=0.1, box=0.05, cls=0.5, cls_pw=1.0, obj=1.0, obj_pw=1.0, iou_t=0.2, anchor_t=4.0, fl_gamma=0.0, hsv_h=0.015, hsv_s=0.7, hsv_v=0.4, degrees=0.0, translate=0.1, scale=0.5, shear=0.0, perspective=0.0, flipud=0.0, fliplr=0.5, mosaic=1.0, mixup=0.0, copy_paste=0.0\n",
            "\u001b[34m\u001b[1mWeights & Biases: \u001b[0mrun 'pip install wandb' to automatically track and visualize YOLOv5 🚀 runs (RECOMMENDED)\n",
            "\u001b[34m\u001b[1mTensorBoard: \u001b[0mStart with 'tensorboard --logdir runs/train', view at http://localhost:6006/\n",
            "2023-03-28 23:34:23.105323: I tensorflow/core/platform/cpu_feature_guard.cc:193] This TensorFlow binary is optimized with oneAPI Deep Neural Network Library (oneDNN) to use the following CPU instructions in performance-critical operations:  AVX2 FMA\n",
            "To enable them in other operations, rebuild TensorFlow with the appropriate compiler flags.\n",
            "2023-03-28 23:34:24.079061: W tensorflow/compiler/xla/stream_executor/platform/default/dso_loader.cc:64] Could not load dynamic library 'libnvinfer.so.7'; dlerror: libnvinfer.so.7: cannot open shared object file: No such file or directory; LD_LIBRARY_PATH: /usr/local/lib/python3.9/dist-packages/cv2/../../lib64:/usr/local/lib/python3.9/dist-packages/cv2/../../lib64:/usr/lib64-nvidia\n",
            "2023-03-28 23:34:24.079181: W tensorflow/compiler/xla/stream_executor/platform/default/dso_loader.cc:64] Could not load dynamic library 'libnvinfer_plugin.so.7'; dlerror: libnvinfer_plugin.so.7: cannot open shared object file: No such file or directory; LD_LIBRARY_PATH: /usr/local/lib/python3.9/dist-packages/cv2/../../lib64:/usr/local/lib/python3.9/dist-packages/cv2/../../lib64:/usr/lib64-nvidia\n",
            "2023-03-28 23:34:24.079202: W tensorflow/compiler/tf2tensorrt/utils/py_utils.cc:38] TF-TRT Warning: Cannot dlopen some TensorRT libraries. If you would like to use Nvidia GPU with TensorRT, please make sure the missing libraries mentioned above are installed properly.\n",
            "Downloading https://ultralytics.com/assets/Arial.ttf to /root/.config/Ultralytics/Arial.ttf...\n",
            "100% 755k/755k [00:00<00:00, 22.4MB/s]\n",
            "\n",
            "                 from  n    params  module                                  arguments                     \n",
            "  0                -1  1      3520  models.common.Focus                     [3, 32, 3]                    \n",
            "  1                -1  1     18560  models.common.Conv                      [32, 64, 3, 2]                \n",
            "  2                -1  1     19904  models.common.BottleneckCSP             [64, 64, 1]                   \n",
            "  3                -1  1     73984  models.common.Conv                      [64, 128, 3, 2]               \n",
            "  4                -1  3    161152  models.common.BottleneckCSP             [128, 128, 3]                 \n",
            "  5                -1  1    295424  models.common.Conv                      [128, 256, 3, 2]              \n",
            "  6                -1  3    641792  models.common.BottleneckCSP             [256, 256, 3]                 \n",
            "  7                -1  1   1180672  models.common.Conv                      [256, 512, 3, 2]              \n",
            "  8                -1  1    656896  models.common.SPP                       [512, 512, [5, 9, 13]]        \n",
            "  9                -1  1   1248768  models.common.BottleneckCSP             [512, 512, 1, False]          \n",
            " 10                -1  1    131584  models.common.Conv                      [512, 256, 1, 1]              \n",
            " 11                -1  1         0  torch.nn.modules.upsampling.Upsample    [None, 2, 'nearest']          \n",
            " 12           [-1, 6]  1         0  models.common.Concat                    [1]                           \n",
            " 13                -1  1    378624  models.common.BottleneckCSP             [512, 256, 1, False]          \n",
            " 14                -1  1     33024  models.common.Conv                      [256, 128, 1, 1]              \n",
            " 15                -1  1         0  torch.nn.modules.upsampling.Upsample    [None, 2, 'nearest']          \n",
            " 16           [-1, 4]  1         0  models.common.Concat                    [1]                           \n",
            " 17                -1  1     95104  models.common.BottleneckCSP             [256, 128, 1, False]          \n",
            " 18                -1  1    147712  models.common.Conv                      [128, 128, 3, 2]              \n",
            " 19          [-1, 14]  1         0  models.common.Concat                    [1]                           \n",
            " 20                -1  1    313088  models.common.BottleneckCSP             [256, 256, 1, False]          \n",
            " 21                -1  1    590336  models.common.Conv                      [256, 256, 3, 2]              \n",
            " 22          [-1, 10]  1         0  models.common.Concat                    [1]                           \n",
            " 23                -1  1   1248768  models.common.BottleneckCSP             [512, 512, 1, False]          \n",
            " 24      [17, 20, 23]  1     16182  models.yolo.Detect                      [1, [[10, 13, 16, 30, 33, 23], [30, 61, 62, 45, 59, 119], [116, 90, 156, 198, 373, 326]], [128, 256, 512]]\n",
            "custom_YOLOv5s summary: 283 layers, 7255094 parameters, 7255094 gradients, 16.9 GFLOPs\n",
            "\n",
            "\u001b[34m\u001b[1mAMP: \u001b[0mchecks passed ✅\n",
            "Scaled weight_decay = 0.0005\n",
            "\u001b[34m\u001b[1moptimizer:\u001b[0m SGD with parameter groups 59 weight (no decay), 70 weight, 62 bias\n",
            "\u001b[34m\u001b[1malbumentations: \u001b[0mBlur(always_apply=False, p=0.01, blur_limit=(3, 7)), MedianBlur(always_apply=False, p=0.01, blur_limit=(3, 7)), ToGray(always_apply=False, p=0.01), CLAHE(always_apply=False, p=0.01, clip_limit=(1, 4.0), tile_grid_size=(8, 8))\n",
            "\u001b[34m\u001b[1mtrain: \u001b[0mScanning '/content/yolov5/Conefinder-1.0-1/train/labels' images and labels...4113 found, 0 missing, 1 empty, 0 corrupt: 100% 4113/4113 [00:03<00:00, 1174.94it/s]\n",
            "\u001b[34m\u001b[1mtrain: \u001b[0mWARNING: /content/yolov5/Conefinder-1.0-1/train/images/4_z8126b7d060d92d74599e0618_f103ee1115bfb3990_d20170226_m022155_c001_v0001038_t0047_png_jpg.rf.ed20074cd543e773a6218ddf07874ae1.jpg: 1 duplicate labels removed\n",
            "\u001b[34m\u001b[1mtrain: \u001b[0mWARNING: /content/yolov5/Conefinder-1.0-1/train/images/4_z8126b7d060d92d74599e0618_f103ee1115bfb3de2_d20170226_m022524_c001_v0001038_t0047_png_jpg.rf.84bd5e22a8d9a15c44cebc23e1511fca.jpg: 1 duplicate labels removed\n",
            "\u001b[34m\u001b[1mtrain: \u001b[0mWARNING: /content/yolov5/Conefinder-1.0-1/train/images/4_z8126b7d060d92d74599e0618_f103ee1115bfb41ca_d20170226_m022825_c001_v0001038_t0047_png_jpg.rf.012eae53c1ab83aa2b4913bce8dcd2a1.jpg: 2 duplicate labels removed\n",
            "\u001b[34m\u001b[1mtrain: \u001b[0mWARNING: /content/yolov5/Conefinder-1.0-1/train/images/4_z8126b7d060d92d74599e0618_f103ee1115bfb509b_d20170226_m024101_c001_v0001038_t0047_png_jpg.rf.be189afe898ae412bd8e55c02eafd438.jpg: 4 duplicate labels removed\n",
            "\u001b[34m\u001b[1mtrain: \u001b[0mWARNING: /content/yolov5/Conefinder-1.0-1/train/images/4_z8126b7d060d92d74599e0618_f103ee1115bfb5341_d20170226_m024311_c001_v0001038_t0047_png_jpg.rf.4f30956ee943b34d6d6ed7adf4158830.jpg: 2 duplicate labels removed\n",
            "\u001b[34m\u001b[1mtrain: \u001b[0mWARNING: /content/yolov5/Conefinder-1.0-1/train/images/4_z8126b7d060d92d74599e0618_f103ee1115bfb5bb0_d20170226_m025011_c001_v0001038_t0047_png_jpg.rf.13f9c651a6f160bd54d6d96dc7003cf6.jpg: 3 duplicate labels removed\n",
            "\u001b[34m\u001b[1mtrain: \u001b[0mWARNING: /content/yolov5/Conefinder-1.0-1/train/images/4_z8126b7d060d92d74599e0618_f103ee1115bfb5ede_d20170226_m025244_c001_v0001038_t0047_png_jpg.rf.0a929da528782ebae63edff3b7cf32fc.jpg: 2 duplicate labels removed\n",
            "\u001b[34m\u001b[1mtrain: \u001b[0mWARNING: /content/yolov5/Conefinder-1.0-1/train/images/4_z8126b7d060d92d74599e0618_f103ee1115bfb6452_d20170226_m025717_c001_v0001038_t0047_png_jpg.rf.d2edfe61d75ec40f0296b762bff84974.jpg: 1 duplicate labels removed\n",
            "\u001b[34m\u001b[1mtrain: \u001b[0mWARNING: /content/yolov5/Conefinder-1.0-1/train/images/4_z8126b7d060d92d74599e0618_f103ee1115bfb657b_d20170226_m025816_c001_v0001038_t0047_png_jpg.rf.9bd964bb203a550ff1cf8bbc708ca431.jpg: 2 duplicate labels removed\n",
            "\u001b[34m\u001b[1mtrain: \u001b[0mWARNING: /content/yolov5/Conefinder-1.0-1/train/images/4_z8126b7d060d92d74599e0618_f103ee1115bfb6f31_d20170226_m030611_c001_v0001038_t0047_png_jpg.rf.188e7e7253738688e7a351ec150b0e76.jpg: 1 duplicate labels removed\n",
            "\u001b[34m\u001b[1mtrain: \u001b[0mWARNING: /content/yolov5/Conefinder-1.0-1/train/images/4_z8126b7d060d92d74599e0618_f103ee1115bfb72a9_d20170226_m030906_c001_v0001038_t0047_png_jpg.rf.0252b7bd93841e8d764d7a0a6c8ed42d.jpg: 1 duplicate labels removed\n",
            "\u001b[34m\u001b[1mtrain: \u001b[0mWARNING: /content/yolov5/Conefinder-1.0-1/train/images/4_z8126b7d060d92d74599e0618_f103ee1115bfb74de_d20170226_m031051_c001_v0001038_t0047_png_jpg.rf.9d71182a165e5e3b3b4cc420a8e6adf3.jpg: 2 duplicate labels removed\n",
            "\u001b[34m\u001b[1mtrain: \u001b[0mWARNING: /content/yolov5/Conefinder-1.0-1/train/images/4_z8126b7d060d92d74599e0618_f103ee1115bfb7e74_d20170226_m031816_c001_v0001038_t0047_png_jpg.rf.7a74ffba46f5f7767f71e23f5b5703b9.jpg: 2 duplicate labels removed\n",
            "\u001b[34m\u001b[1mtrain: \u001b[0mWARNING: /content/yolov5/Conefinder-1.0-1/train/images/4_z8126b7d060d92d74599e0618_f103ee1115bfb829a_d20170226_m032129_c001_v0001038_t0047_png_jpg.rf.b2ad9e966f404616e8caebd5d81afa0e.jpg: 2 duplicate labels removed\n",
            "\u001b[34m\u001b[1mtrain: \u001b[0mWARNING: /content/yolov5/Conefinder-1.0-1/train/images/4_z8126b7d060d92d74599e0618_f103ee1115bfb8591_d20170226_m032337_c001_v0001038_t0047_png_jpg.rf.cee90a9fdc92bee2f58db9c99b5fd902.jpg: 2 duplicate labels removed\n",
            "\u001b[34m\u001b[1mtrain: \u001b[0mWARNING: /content/yolov5/Conefinder-1.0-1/train/images/4_z8126b7d060d92d74599e0618_f103ee1115bfb8612_d20170226_m032404_c001_v0001038_t0047_png_jpg.rf.fb77c55487646dfa75babb31aa7e8ba0.jpg: 1 duplicate labels removed\n",
            "\u001b[34m\u001b[1mtrain: \u001b[0mWARNING: /content/yolov5/Conefinder-1.0-1/train/images/4_z8126b7d060d92d74599e0618_f103ee1115bfb87a4_d20170226_m032510_c001_v0001038_t0047_png_jpg.rf.a62c70eda41202d1af90e7fb7e2bc1f1.jpg: 2 duplicate labels removed\n",
            "\u001b[34m\u001b[1mtrain: \u001b[0mWARNING: /content/yolov5/Conefinder-1.0-1/train/images/4_z8126b7d060d92d74599e0618_f103ee1115bfb8dc3_d20170226_m032939_c001_v0001038_t0047_png_jpg.rf.bb60e63b35b932670f6020945ce783cb.jpg: 1 duplicate labels removed\n",
            "\u001b[34m\u001b[1mtrain: \u001b[0mWARNING: /content/yolov5/Conefinder-1.0-1/train/images/4_z8126b7d060d92d74599e0618_f103ee1115bfb98c5_d20170226_m033804_c001_v0001038_t0047_png_jpg.rf.76a4d4db99c8902df24ec86d37df11ad.jpg: 1 duplicate labels removed\n",
            "\u001b[34m\u001b[1mtrain: \u001b[0mWARNING: /content/yolov5/Conefinder-1.0-1/train/images/4_z8126b7d060d92d74599e0618_f105bec8d6545ebf2_d20170228_m023729_c001_v0001038_t0052_png_jpg.rf.4d329fab2eb097ae04494002ad6ff2bd.jpg: 2 duplicate labels removed\n",
            "\u001b[34m\u001b[1mtrain: \u001b[0mWARNING: /content/yolov5/Conefinder-1.0-1/train/images/4_z8126b7d060d92d74599e0618_f105bec8d6545f239_d20170228_m024302_c001_v0001038_t0052_png_jpg.rf.3e5beeef5713ca99e396f1390df28269.jpg: 2 duplicate labels removed\n",
            "\u001b[34m\u001b[1mtrain: \u001b[0mWARNING: /content/yolov5/Conefinder-1.0-1/train/images/4_z8126b7d060d92d74599e0618_f105bec8d6545f58d_d20170228_m024540_c001_v0001038_t0052_png_jpg.rf.e7b597bf52b8b10571244103ae31b770.jpg: 1 duplicate labels removed\n",
            "\u001b[34m\u001b[1mtrain: \u001b[0mWARNING: /content/yolov5/Conefinder-1.0-1/train/images/4_z8126b7d060d92d74599e0618_f105bec8d6545f937_d20170228_m024819_c001_v0001038_t0052_png_jpg.rf.5a22860f05a5e4491ccd865511eac886.jpg: 2 duplicate labels removed\n",
            "\u001b[34m\u001b[1mtrain: \u001b[0mWARNING: /content/yolov5/Conefinder-1.0-1/train/images/4_z8126b7d060d92d74599e0618_f105bec8d6545fcd7_d20170228_m025125_c001_v0001038_t0052_png_jpg.rf.499cded5775880170455ff54b282f4e6.jpg: 1 duplicate labels removed\n",
            "\u001b[34m\u001b[1mtrain: \u001b[0mWARNING: /content/yolov5/Conefinder-1.0-1/train/images/4_z8126b7d060d92d74599e0618_f105bec8d654609f2_d20170228_m030308_c001_v0001038_t0052_png_jpg.rf.d9865209c022855a8022169a6914ad4a.jpg: 1 duplicate labels removed\n",
            "\u001b[34m\u001b[1mtrain: \u001b[0mWARNING: /content/yolov5/Conefinder-1.0-1/train/images/4_z8126b7d060d92d74599e0618_f105bec8d65460c1b_d20170228_m030448_c001_v0001038_t0052_png_jpg.rf.85d54d6e6b5d8bb40c102ff159fcd355.jpg: 1 duplicate labels removed\n",
            "\u001b[34m\u001b[1mtrain: \u001b[0mWARNING: /content/yolov5/Conefinder-1.0-1/train/images/4_z8126b7d060d92d74599e0618_f105bec8d65461975_d20170228_m031540_c001_v0001038_t0052_png_jpg.rf.a7028ee9f5f1273c85dd7feed86f7113.jpg: 1 duplicate labels removed\n",
            "\u001b[34m\u001b[1mtrain: \u001b[0mWARNING: /content/yolov5/Conefinder-1.0-1/train/images/4_z8126b7d060d92d74599e0618_f105bec8d65461bc2_d20170228_m031756_c001_v0001038_t0052_png_jpg.rf.3bdb7c169bb517ff9ea82f8a974492c5.jpg: 1 duplicate labels removed\n",
            "\u001b[34m\u001b[1mtrain: \u001b[0mWARNING: /content/yolov5/Conefinder-1.0-1/train/images/4_z8126b7d060d92d74599e0618_f109cae5016f21fd0_d20170225_m201447_c001_v0001038_t0018_png_jpg.rf.50eefd291d3c0f4e80faaa89de8b5a62.jpg: 3 duplicate labels removed\n",
            "\u001b[34m\u001b[1mtrain: \u001b[0mWARNING: /content/yolov5/Conefinder-1.0-1/train/images/4_z8126b7d060d92d74599e0618_f109cae5016f2275e_d20170225_m202342_c001_v0001038_t0018_png_jpg.rf.85be53c521f219c33f0c5ea5c950dee8.jpg: 2 duplicate labels removed\n",
            "\u001b[34m\u001b[1mtrain: \u001b[0mWARNING: /content/yolov5/Conefinder-1.0-1/train/images/4_z8126b7d060d92d74599e0618_f109cae5016f22958_d20170225_m202613_c001_v0001038_t0018_png_jpg.rf.b0701bc1fe138e305b0edcf654698878.jpg: 2 duplicate labels removed\n",
            "\u001b[34m\u001b[1mtrain: \u001b[0mWARNING: /content/yolov5/Conefinder-1.0-1/train/images/4_z8126b7d060d92d74599e0618_f109cae5016f22b49_d20170225_m202825_c001_v0001038_t0018_png_jpg.rf.bf4ff81c62c6616a628a3a27055dbc02.jpg: 1 duplicate labels removed\n",
            "\u001b[34m\u001b[1mtrain: \u001b[0mWARNING: /content/yolov5/Conefinder-1.0-1/train/images/4_z8126b7d060d92d74599e0618_f109cae5016f240ad_d20170225_m205340_c001_v0001038_t0018_png_jpg.rf.714fe2311e7e9bb6087edf4e38129713.jpg: 2 duplicate labels removed\n",
            "\u001b[34m\u001b[1mtrain: \u001b[0mWARNING: /content/yolov5/Conefinder-1.0-1/train/images/4_z8126b7d060d92d74599e0618_f109cae5016f25f24_d20170225_m212728_c001_v0001038_t0018_png_jpg.rf.147815b1a9421f395db8b40e76643dfa.jpg: 2 duplicate labels removed\n",
            "\u001b[34m\u001b[1mtrain: \u001b[0mWARNING: /content/yolov5/Conefinder-1.0-1/train/images/4_z8126b7d060d92d74599e0618_f110e5e48fac42f2c_d20170301_m020751_c001_v0001036_t0016_png_jpg.rf.56c8b122ad6c3e7cc1c9ad40419a7359.jpg: 2 duplicate labels removed\n",
            "\u001b[34m\u001b[1mtrain: \u001b[0mWARNING: /content/yolov5/Conefinder-1.0-1/train/images/4_z8126b7d060d92d74599e0618_f110e5e48fac43054_d20170301_m021043_c001_v0001036_t0016_png_jpg.rf.288d9120f0a13d3377806a2c879293b1.jpg: 2 duplicate labels removed\n",
            "\u001b[34m\u001b[1mtrain: \u001b[0mWARNING: /content/yolov5/Conefinder-1.0-1/train/images/4_z8126b7d060d92d74599e0618_f110e5e48fac4368e_d20170301_m022629_c001_v0001036_t0016_png_jpg.rf.6dceeb8707b6d80f42255a7faf683554.jpg: 2 duplicate labels removed\n",
            "\u001b[34m\u001b[1mtrain: \u001b[0mWARNING: /content/yolov5/Conefinder-1.0-1/train/images/4_z8126b7d060d92d74599e0618_f110e5e48fac43ba1_d20170301_m024646_c001_v0001036_t0016_png_jpg.rf.b788dd89114a08e2f53645967f8f4179.jpg: 1 duplicate labels removed\n",
            "\u001b[34m\u001b[1mtrain: \u001b[0mWARNING: /content/yolov5/Conefinder-1.0-1/train/images/4_z8126b7d060d92d74599e0618_f110e5e48fac43e43_d20170301_m025554_c001_v0001036_t0016_png_jpg.rf.2ed73cf4765e3f996620239424584924.jpg: 2 duplicate labels removed\n",
            "\u001b[34m\u001b[1mtrain: \u001b[0mWARNING: /content/yolov5/Conefinder-1.0-1/train/images/4_z8126b7d060d92d74599e0618_f110e5e48fac43e55_d20170301_m025612_c001_v0001036_t0016_png_jpg.rf.408e8517ee40f435579a5d9f1c196fa2.jpg: 2 duplicate labels removed\n",
            "\u001b[34m\u001b[1mtrain: \u001b[0mWARNING: /content/yolov5/Conefinder-1.0-1/train/images/4_z8126b7d060d92d74599e0618_f110e5e48fac43e95_d20170301_m025708_c001_v0001036_t0016_png_jpg.rf.d5e3ed9ba71257a8ca274aab40455d6f.jpg: 1 duplicate labels removed\n",
            "\u001b[34m\u001b[1mtrain: \u001b[0mWARNING: /content/yolov5/Conefinder-1.0-1/train/images/4_z8126b7d060d92d74599e0618_f110e5e48fac442b2_d20170301_m031006_c001_v0001036_t0016_png_jpg.rf.3c0246db6f8b2297b9bbdad6cff05917.jpg: 1 duplicate labels removed\n",
            "\u001b[34m\u001b[1mtrain: \u001b[0mWARNING: /content/yolov5/Conefinder-1.0-1/train/images/4_z8126b7d060d92d74599e0618_f110e5e48fac44839_d20170301_m032738_c001_v0001036_t0016_png_jpg.rf.6cfaf33900bc31f6ba9d6ffc0a801252.jpg: 1 duplicate labels removed\n",
            "\u001b[34m\u001b[1mtrain: \u001b[0mWARNING: /content/yolov5/Conefinder-1.0-1/train/images/4_z8126b7d060d92d74599e0618_f110e5e48fac44a2e_d20170301_m033528_c001_v0001036_t0016_png_jpg.rf.3b48c0caf2d8d7e5a8adec1967b38e81.jpg: 2 duplicate labels removed\n",
            "\u001b[34m\u001b[1mtrain: \u001b[0mWARNING: /content/yolov5/Conefinder-1.0-1/train/images/4_z8126b7d060d92d74599e0618_f110e5e48fac44b36_d20170301_m033920_c001_v0001036_t0016_png_jpg.rf.3474af7749eb304d0f9acbb150e243e3.jpg: 1 duplicate labels removed\n",
            "\u001b[34m\u001b[1mtrain: \u001b[0mWARNING: /content/yolov5/Conefinder-1.0-1/train/images/4_z8126b7d060d92d74599e0618_f110e5e48fac44cc3_d20170301_m034425_c001_v0001036_t0016_png_jpg.rf.a9c2b7f5dbaa7b2e81d2dcb9a83a2d47.jpg: 1 duplicate labels removed\n",
            "\u001b[34m\u001b[1mtrain: \u001b[0mNew cache created: /content/yolov5/Conefinder-1.0-1/train/labels.cache\n",
            "\u001b[34m\u001b[1mtrain: \u001b[0mCaching images (2.1GB ram): 100% 4113/4113 [00:19<00:00, 207.00it/s]\n",
            "\u001b[34m\u001b[1mval: \u001b[0mScanning '/content/yolov5/Conefinder-1.0-1/valid/labels' images and labels...855 found, 0 missing, 0 empty, 0 corrupt: 100% 855/855 [00:00<00:00, 1004.44it/s]\n",
            "\u001b[34m\u001b[1mval: \u001b[0mWARNING: /content/yolov5/Conefinder-1.0-1/valid/images/4_z8126b7d060d92d74599e0618_f103ee1115bfb3457_d20170226_m021720_c001_v0001038_t0047_png_jpg.rf.822d54d83e7158cb8605bb808a2b0b9d.jpg: 2 duplicate labels removed\n",
            "\u001b[34m\u001b[1mval: \u001b[0mWARNING: /content/yolov5/Conefinder-1.0-1/valid/images/4_z8126b7d060d92d74599e0618_f103ee1115bfb3ebb_d20170226_m022605_c001_v0001038_t0047_png_jpg.rf.ed52d936c35eb4fea9bfd76b4624f895.jpg: 4 duplicate labels removed\n",
            "\u001b[34m\u001b[1mval: \u001b[0mWARNING: /content/yolov5/Conefinder-1.0-1/valid/images/4_z8126b7d060d92d74599e0618_f103ee1115bfb3eed_d20170226_m022615_c001_v0001038_t0047_png_jpg.rf.96574d34c0762c892f225f8be9910d05.jpg: 3 duplicate labels removed\n",
            "\u001b[34m\u001b[1mval: \u001b[0mWARNING: /content/yolov5/Conefinder-1.0-1/valid/images/4_z8126b7d060d92d74599e0618_f103ee1115bfb49a9_d20170226_m023509_c001_v0001038_t0047_png_jpg.rf.49957d26e5849779d905a1db2d6ba516.jpg: 1 duplicate labels removed\n",
            "\u001b[34m\u001b[1mval: \u001b[0mWARNING: /content/yolov5/Conefinder-1.0-1/valid/images/4_z8126b7d060d92d74599e0618_f103ee1115bfb553b_d20170226_m024447_c001_v0001038_t0047_png_jpg.rf.ec6555f03bb675cfd53f625446810fb1.jpg: 1 duplicate labels removed\n",
            "\u001b[34m\u001b[1mval: \u001b[0mWARNING: /content/yolov5/Conefinder-1.0-1/valid/images/4_z8126b7d060d92d74599e0618_f103ee1115bfb64e9_d20170226_m025747_c001_v0001038_t0047_png_jpg.rf.97ba01d5d09cdf1434189802557f968b.jpg: 2 duplicate labels removed\n",
            "\u001b[34m\u001b[1mval: \u001b[0mWARNING: /content/yolov5/Conefinder-1.0-1/valid/images/4_z8126b7d060d92d74599e0618_f103ee1115bfb6a94_d20170226_m030224_c001_v0001038_t0047_png_jpg.rf.fbffe0290056d499809070cea89b2b89.jpg: 2 duplicate labels removed\n",
            "\u001b[34m\u001b[1mval: \u001b[0mWARNING: /content/yolov5/Conefinder-1.0-1/valid/images/4_z8126b7d060d92d74599e0618_f103ee1115bfb8ad2_d20170226_m032729_c001_v0001038_t0047_png_jpg.rf.7185601bca103bb6ef98ed986dc70108.jpg: 1 duplicate labels removed\n",
            "\u001b[34m\u001b[1mval: \u001b[0mWARNING: /content/yolov5/Conefinder-1.0-1/valid/images/4_z8126b7d060d92d74599e0618_f105bec8d6545eb78_d20170228_m023701_c001_v0001038_t0052_png_jpg.rf.3275eb656d4a7954cc4b57c6c01fb56a.jpg: 1 duplicate labels removed\n",
            "\u001b[34m\u001b[1mval: \u001b[0mWARNING: /content/yolov5/Conefinder-1.0-1/valid/images/4_z8126b7d060d92d74599e0618_f105bec8d6545f74a_d20170228_m024659_c001_v0001038_t0052_png_jpg.rf.392850381d4cbe9165e90afb8a7e0fd6.jpg: 1 duplicate labels removed\n",
            "\u001b[34m\u001b[1mval: \u001b[0mWARNING: /content/yolov5/Conefinder-1.0-1/valid/images/4_z8126b7d060d92d74599e0618_f105bec8d65460c75_d20170228_m030506_c001_v0001038_t0052_png_jpg.rf.2e56d4e640547442ee1b57209da0c4b5.jpg: 2 duplicate labels removed\n",
            "\u001b[34m\u001b[1mval: \u001b[0mWARNING: /content/yolov5/Conefinder-1.0-1/valid/images/4_z8126b7d060d92d74599e0618_f105bec8d65461b60_d20170228_m031732_c001_v0001038_t0052_png_jpg.rf.7fbf4ecbdb72604212bc495ce08a393a.jpg: 2 duplicate labels removed\n",
            "\u001b[34m\u001b[1mval: \u001b[0mWARNING: /content/yolov5/Conefinder-1.0-1/valid/images/4_z8126b7d060d92d74599e0618_f105bec8d654623bd_d20170228_m032421_c001_v0001038_t0052_png_jpg.rf.19243a6926cd0a900739ee65cbab751d.jpg: 1 duplicate labels removed\n",
            "\u001b[34m\u001b[1mval: \u001b[0mWARNING: /content/yolov5/Conefinder-1.0-1/valid/images/4_z8126b7d060d92d74599e0618_f109cae5016f22c00_d20170225_m202920_c001_v0001038_t0018_png_jpg.rf.2eadb9b72b04bdf1819ad46ff69e7e9d.jpg: 2 duplicate labels removed\n",
            "\u001b[34m\u001b[1mval: \u001b[0mWARNING: /content/yolov5/Conefinder-1.0-1/valid/images/4_z8126b7d060d92d74599e0618_f110e5e48fac43430_d20170301_m021957_c001_v0001036_t0016_png_jpg.rf.3b13cd58307b82260766ea5db690e015.jpg: 4 duplicate labels removed\n",
            "\u001b[34m\u001b[1mval: \u001b[0mWARNING: /content/yolov5/Conefinder-1.0-1/valid/images/4_z8126b7d060d92d74599e0618_f110e5e48fac435e3_d20170301_m022435_c001_v0001036_t0016_png_jpg.rf.5384da5e2ecb02ae038c76e999962812.jpg: 4 duplicate labels removed\n",
            "\u001b[34m\u001b[1mval: \u001b[0mWARNING: /content/yolov5/Conefinder-1.0-1/valid/images/4_z8126b7d060d92d74599e0618_f110e5e48fac43ae0_d20170301_m024243_c001_v0001036_t0016_png_jpg.rf.39e5b006d2ded674e3073b102f00c082.jpg: 1 duplicate labels removed\n",
            "\u001b[34m\u001b[1mval: \u001b[0mWARNING: /content/yolov5/Conefinder-1.0-1/valid/images/4_z8126b7d060d92d74599e0618_f110e5e48fac43e17_d20170301_m025511_c001_v0001036_t0016_png_jpg.rf.ae771dcc1f752d359421ed8d4a1795ff.jpg: 2 duplicate labels removed\n",
            "\u001b[34m\u001b[1mval: \u001b[0mWARNING: /content/yolov5/Conefinder-1.0-1/valid/images/4_z8126b7d060d92d74599e0618_f110e5e48fac43fa9_d20170301_m030045_c001_v0001036_t0016_png_jpg.rf.e6c2ef44efd54c0e1ef74ee2152df4ac.jpg: 4 duplicate labels removed\n",
            "\u001b[34m\u001b[1mval: \u001b[0mWARNING: /content/yolov5/Conefinder-1.0-1/valid/images/4_z8126b7d060d92d74599e0618_f110e5e48fac44341_d20170301_m031145_c001_v0001036_t0016_png_jpg.rf.0d660c3c9e5ff27af984215bb91d775d.jpg: 1 duplicate labels removed\n",
            "\u001b[34m\u001b[1mval: \u001b[0mWARNING: /content/yolov5/Conefinder-1.0-1/valid/images/4_z8126b7d060d92d74599e0618_f110e5e48fac446a0_d20170301_m032035_c001_v0001036_t0016_png_jpg.rf.aa7a4b33c77503e5feb64b63a8aa31f8.jpg: 1 duplicate labels removed\n",
            "\u001b[34m\u001b[1mval: \u001b[0mWARNING: /content/yolov5/Conefinder-1.0-1/valid/images/4_z8126b7d060d92d74599e0618_f110e5e48fac44a17_d20170301_m033507_c001_v0001036_t0016_png_jpg.rf.625cb8de8436c1d390f0b8ec1a0dac3f.jpg: 2 duplicate labels removed\n",
            "\u001b[34m\u001b[1mval: \u001b[0mNew cache created: /content/yolov5/Conefinder-1.0-1/valid/labels.cache\n",
            "\u001b[34m\u001b[1mval: \u001b[0mCaching images (0.4GB ram): 100% 855/855 [00:05<00:00, 152.95it/s]\n",
            "Plotting labels to runs/train/yolov5s_results/labels.jpg... \n",
            "\n",
            "\u001b[34m\u001b[1mAutoAnchor: \u001b[0m4.36 anchors/target, 0.997 Best Possible Recall (BPR). Current anchors are a good fit to dataset ✅\n",
            "Image sizes 416 train, 416 val\n",
            "Using 2 dataloader workers\n",
            "Logging results to \u001b[1mruns/train/yolov5s_results\u001b[0m\n",
            "Starting training for 20 epochs...\n",
            "\n",
            "     Epoch   gpu_mem       box       obj       cls    labels  img_size\n",
            "      0/19     1.75G   0.09124   0.02267         0         2       416: 100% 258/258 [00:55<00:00,  4.69it/s]\n",
            "               Class     Images     Labels          P          R     mAP@.5 mAP@.5:.95: 100% 27/27 [00:07<00:00,  3.66it/s]\n",
            "                 all        855       1067    0.00467     0.0394    0.00556    0.00167\n",
            "\n",
            "     Epoch   gpu_mem       box       obj       cls    labels  img_size\n",
            "      1/19     2.15G   0.08213   0.02357         0         1       416: 100% 258/258 [00:46<00:00,  5.51it/s]\n",
            "               Class     Images     Labels          P          R     mAP@.5 mAP@.5:.95: 100% 27/27 [00:07<00:00,  3.70it/s]\n",
            "                 all        855       1067       0.31      0.329      0.188     0.0483\n",
            "\n",
            "     Epoch   gpu_mem       box       obj       cls    labels  img_size\n",
            "      2/19     2.15G   0.07013   0.02157         0         1       416: 100% 258/258 [00:45<00:00,  5.67it/s]\n",
            "               Class     Images     Labels          P          R     mAP@.5 mAP@.5:.95: 100% 27/27 [00:06<00:00,  3.89it/s]\n",
            "                 all        855       1067      0.492       0.48       0.41      0.161\n",
            "\n",
            "     Epoch   gpu_mem       box       obj       cls    labels  img_size\n",
            "      3/19     2.15G   0.05794   0.02095         0         4       416: 100% 258/258 [00:45<00:00,  5.69it/s]\n",
            "               Class     Images     Labels          P          R     mAP@.5 mAP@.5:.95: 100% 27/27 [00:06<00:00,  4.08it/s]\n",
            "                 all        855       1067      0.785      0.664      0.773      0.364\n",
            "\n",
            "     Epoch   gpu_mem       box       obj       cls    labels  img_size\n",
            "      4/19     2.15G   0.05077    0.0188         0         2       416: 100% 258/258 [00:44<00:00,  5.84it/s]\n",
            "               Class     Images     Labels          P          R     mAP@.5 mAP@.5:.95: 100% 27/27 [00:05<00:00,  4.62it/s]\n",
            "                 all        855       1067      0.891       0.79      0.861      0.462\n",
            "\n",
            "     Epoch   gpu_mem       box       obj       cls    labels  img_size\n",
            "      5/19     2.15G    0.0458   0.01743         0         1       416: 100% 258/258 [00:44<00:00,  5.74it/s]\n",
            "               Class     Images     Labels          P          R     mAP@.5 mAP@.5:.95: 100% 27/27 [00:05<00:00,  4.72it/s]\n",
            "                 all        855       1067       0.94      0.825      0.904      0.507\n",
            "\n",
            "     Epoch   gpu_mem       box       obj       cls    labels  img_size\n",
            "      6/19     2.15G   0.04293   0.01643         0         3       416: 100% 258/258 [00:45<00:00,  5.66it/s]\n",
            "               Class     Images     Labels          P          R     mAP@.5 mAP@.5:.95: 100% 27/27 [00:05<00:00,  4.70it/s]\n",
            "                 all        855       1067      0.922      0.864      0.915      0.573\n",
            "\n",
            "     Epoch   gpu_mem       box       obj       cls    labels  img_size\n",
            "      7/19     2.15G   0.04035   0.01573         0         1       416: 100% 258/258 [00:45<00:00,  5.62it/s]\n",
            "               Class     Images     Labels          P          R     mAP@.5 mAP@.5:.95: 100% 27/27 [00:07<00:00,  3.62it/s]\n",
            "                 all        855       1067      0.917      0.885      0.923      0.588\n",
            "\n",
            "     Epoch   gpu_mem       box       obj       cls    labels  img_size\n",
            "      8/19     2.15G   0.03822   0.01533         0         1       416: 100% 258/258 [00:44<00:00,  5.82it/s]\n",
            "               Class     Images     Labels          P          R     mAP@.5 mAP@.5:.95: 100% 27/27 [00:06<00:00,  4.07it/s]\n",
            "                 all        855       1067       0.94       0.91      0.941      0.542\n",
            "\n",
            "     Epoch   gpu_mem       box       obj       cls    labels  img_size\n",
            "      9/19     2.15G   0.03723   0.01472         0         4       416: 100% 258/258 [00:44<00:00,  5.79it/s]\n",
            "               Class     Images     Labels          P          R     mAP@.5 mAP@.5:.95: 100% 27/27 [00:06<00:00,  4.09it/s]\n",
            "                 all        855       1067      0.936      0.888       0.94      0.607\n",
            "\n",
            "     Epoch   gpu_mem       box       obj       cls    labels  img_size\n",
            "     10/19     2.15G   0.03609   0.01455         0         3       416: 100% 258/258 [00:44<00:00,  5.79it/s]\n",
            "               Class     Images     Labels          P          R     mAP@.5 mAP@.5:.95: 100% 27/27 [00:07<00:00,  3.79it/s]\n",
            "                 all        855       1067      0.946      0.925      0.954       0.62\n",
            "\n",
            "     Epoch   gpu_mem       box       obj       cls    labels  img_size\n",
            "     11/19     2.15G   0.03494   0.01464         0         2       416: 100% 258/258 [00:44<00:00,  5.83it/s]\n",
            "               Class     Images     Labels          P          R     mAP@.5 mAP@.5:.95: 100% 27/27 [00:05<00:00,  4.73it/s]\n",
            "                 all        855       1067      0.953       0.92      0.948      0.636\n",
            "\n",
            "     Epoch   gpu_mem       box       obj       cls    labels  img_size\n",
            "     12/19     2.15G   0.03405   0.01412         0         3       416: 100% 258/258 [00:44<00:00,  5.78it/s]\n",
            "               Class     Images     Labels          P          R     mAP@.5 mAP@.5:.95: 100% 27/27 [00:05<00:00,  4.74it/s]\n",
            "                 all        855       1067       0.94      0.934      0.954      0.655\n",
            "\n",
            "     Epoch   gpu_mem       box       obj       cls    labels  img_size\n",
            "     13/19     2.15G   0.03309   0.01404         0         1       416: 100% 258/258 [00:45<00:00,  5.72it/s]\n",
            "               Class     Images     Labels          P          R     mAP@.5 mAP@.5:.95: 100% 27/27 [00:05<00:00,  4.56it/s]\n",
            "                 all        855       1067      0.938      0.944       0.96      0.667\n",
            "\n",
            "     Epoch   gpu_mem       box       obj       cls    labels  img_size\n",
            "     14/19     2.15G   0.03278   0.01378         0         2       416: 100% 258/258 [00:44<00:00,  5.77it/s]\n",
            "               Class     Images     Labels          P          R     mAP@.5 mAP@.5:.95: 100% 27/27 [00:06<00:00,  4.12it/s]\n",
            "                 all        855       1067      0.949      0.945      0.959      0.669\n",
            "\n",
            "     Epoch   gpu_mem       box       obj       cls    labels  img_size\n",
            "     15/19     2.15G   0.03133    0.0134         0         6       416: 100% 258/258 [00:43<00:00,  5.93it/s]\n",
            "               Class     Images     Labels          P          R     mAP@.5 mAP@.5:.95: 100% 27/27 [00:07<00:00,  3.75it/s]\n",
            "                 all        855       1067      0.958      0.944      0.965      0.688\n",
            "\n",
            "     Epoch   gpu_mem       box       obj       cls    labels  img_size\n",
            "     16/19     2.15G     0.031   0.01327         0         0       416: 100% 258/258 [00:42<00:00,  6.12it/s]\n",
            "               Class     Images     Labels          P          R     mAP@.5 mAP@.5:.95: 100% 27/27 [00:07<00:00,  3.77it/s]\n",
            "                 all        855       1067      0.949      0.941      0.968      0.694\n",
            "\n",
            "     Epoch   gpu_mem       box       obj       cls    labels  img_size\n",
            "     17/19     2.15G   0.03021   0.01296         0         4       416: 100% 258/258 [00:43<00:00,  5.93it/s]\n",
            "               Class     Images     Labels          P          R     mAP@.5 mAP@.5:.95: 100% 27/27 [00:05<00:00,  4.73it/s]\n",
            "                 all        855       1067      0.956      0.936      0.963      0.704\n",
            "\n",
            "     Epoch   gpu_mem       box       obj       cls    labels  img_size\n",
            "     18/19     2.15G   0.02976   0.01266         0         1       416: 100% 258/258 [00:45<00:00,  5.61it/s]\n",
            "               Class     Images     Labels          P          R     mAP@.5 mAP@.5:.95: 100% 27/27 [00:05<00:00,  4.81it/s]\n",
            "                 all        855       1067      0.965      0.928      0.964        0.7\n",
            "\n",
            "     Epoch   gpu_mem       box       obj       cls    labels  img_size\n",
            "     19/19     2.15G   0.02983     0.013         0         5       416: 100% 258/258 [00:44<00:00,  5.85it/s]\n",
            "               Class     Images     Labels          P          R     mAP@.5 mAP@.5:.95: 100% 27/27 [00:06<00:00,  4.22it/s]\n",
            "                 all        855       1067      0.965      0.943      0.971      0.717\n",
            "\n",
            "20 epochs completed in 0.291 hours.\n",
            "Optimizer stripped from runs/train/yolov5s_results/weights/last.pt, 14.8MB\n",
            "Optimizer stripped from runs/train/yolov5s_results/weights/best.pt, 14.8MB\n",
            "\n",
            "Validating runs/train/yolov5s_results/weights/best.pt...\n",
            "Fusing layers... \n",
            "custom_YOLOv5s summary: 232 layers, 7246518 parameters, 0 gradients, 16.7 GFLOPs\n",
            "               Class     Images     Labels          P          R     mAP@.5 mAP@.5:.95: 100% 27/27 [00:09<00:00,  2.81it/s]\n",
            "                 all        855       1067      0.965      0.943      0.971      0.716\n",
            "Results saved to \u001b[1mruns/train/yolov5s_results\u001b[0m\n",
            "CPU times: user 11.4 s, sys: 1.25 s, total: 12.6 s\n",
            "Wall time: 18min 42s\n"
          ]
        }
      ]
    },
    {
      "cell_type": "markdown",
      "metadata": {
        "id": "N3qM6T0W53gh"
      },
      "source": [
        "#Run Inference  With Trained Weights\n",
        "Run inference with a pretrained checkpoint on contents of `test/images` folder downloaded from Roboflow."
      ]
    },
    {
      "cell_type": "code",
      "metadata": {
        "id": "yIEwt5YLeQ7P",
        "colab": {
          "base_uri": "https://localhost:8080/"
        },
        "outputId": "8252cc6e-56f1-40f2-fe55-6372fa09d09b"
      },
      "source": [
        "# trained weights are saved by default in our weights folder\n",
        "%ls runs/"
      ],
      "execution_count": null,
      "outputs": [
        {
          "output_type": "stream",
          "name": "stdout",
          "text": [
            "\u001b[0m\u001b[01;34mtrain\u001b[0m/\n"
          ]
        }
      ]
    },
    {
      "cell_type": "code",
      "metadata": {
        "id": "4SyOWS80qR32",
        "colab": {
          "base_uri": "https://localhost:8080/"
        },
        "outputId": "2c0db965-1345-44a3-f047-85c06ebe9abe"
      },
      "source": [
        "%ls runs/train/yolov5s_results/weights"
      ],
      "execution_count": null,
      "outputs": [
        {
          "output_type": "stream",
          "name": "stdout",
          "text": [
            "best.pt  last.pt\n"
          ]
        }
      ]
    },
    {
      "cell_type": "code",
      "source": [
        "!git clone https://github.com/Kh0uloud/recruiting-sw-project.git"
      ],
      "metadata": {
        "id": "hxdna0Da63Q-",
        "outputId": "ae283e85-68ea-4bcd-81f0-d9426c472c4d",
        "colab": {
          "base_uri": "https://localhost:8080/"
        }
      },
      "execution_count": null,
      "outputs": [
        {
          "output_type": "stream",
          "name": "stdout",
          "text": [
            "Cloning into 'recruiting-sw-project'...\n",
            "remote: Enumerating objects: 40, done.\u001b[K\n",
            "remote: Counting objects: 100% (40/40), done.\u001b[K\n",
            "remote: Compressing objects: 100% (34/34), done.\u001b[K\n",
            "remote: Total 40 (delta 13), reused 0 (delta 0), pack-reused 0\u001b[K\n",
            "Unpacking objects: 100% (40/40), 3.63 MiB | 10.20 MiB/s, done.\n"
          ]
        }
      ]
    },
    {
      "cell_type": "code",
      "source": [
        "%cd recruiting-sw-project/Driverless/"
      ],
      "metadata": {
        "id": "44lLnuOO66ui",
        "outputId": "a731ac2f-159b-451b-82de-a0e270e0a23b",
        "colab": {
          "base_uri": "https://localhost:8080/"
        }
      },
      "execution_count": null,
      "outputs": [
        {
          "output_type": "stream",
          "name": "stdout",
          "text": [
            "/content/yolov5/recruiting-sw-project/Driverless\n"
          ]
        }
      ]
    },
    {
      "cell_type": "code",
      "metadata": {
        "id": "9nmZZnWOgJ2S",
        "colab": {
          "base_uri": "https://localhost:8080/"
        },
        "outputId": "8c76b541-b6c4-4a44-ae82-37ed8ea3b2dd"
      },
      "source": [
        "# when we ran this, we saw .007 second inference time. That is 140 FPS on a TESLA P100!\n",
        "# use the best weights!\n",
        "%cd /content/yolov5/\n",
        "!python detect.py --weights runs/train/yolov5s_results/weights/best.pt --img 416 --save-txt  --conf 0.4 --source /content/yolov5/recruiting-sw-project/Driverless/recovered.png"
      ],
      "execution_count": null,
      "outputs": [
        {
          "output_type": "stream",
          "name": "stdout",
          "text": [
            "/content/yolov5\n",
            "\u001b[34m\u001b[1mdetect: \u001b[0mweights=['runs/train/yolov5s_results/weights/best.pt'], source=/content/yolov5/recruiting-sw-project/Driverless/recovered.png, data=data/coco128.yaml, imgsz=[416, 416], conf_thres=0.4, iou_thres=0.45, max_det=1000, device=, view_img=False, save_txt=True, save_conf=False, save_crop=False, nosave=False, classes=None, agnostic_nms=False, augment=False, visualize=False, update=False, project=runs/detect, name=exp, exist_ok=False, line_thickness=3, hide_labels=False, hide_conf=False, half=False, dnn=False\n",
            "YOLOv5 🚀 v6.1-306-gfbe67e4 Python-3.9.16 torch-1.13.1+cu116 CUDA:0 (Tesla T4, 15102MiB)\n",
            "\n",
            "Fusing layers... \n",
            "custom_YOLOv5s summary: 232 layers, 7246518 parameters, 0 gradients, 16.7 GFLOPs\n",
            "image 1/1 /content/yolov5/recruiting-sw-project/Driverless/recovered.png: 416x320 3 cones, Done. (0.013s)\n",
            "Speed: 0.3ms pre-process, 13.2ms inference, 1.7ms NMS per image at shape (1, 3, 416, 416)\n",
            "Results saved to \u001b[1mruns/detect/exp\u001b[0m\n",
            "1 labels saved to runs/detect/exp/labels\n"
          ]
        }
      ]
    },
    {
      "cell_type": "code",
      "source": [
        "import cv2\n",
        "\n",
        "image = cv2.imread(\"/content/yolov5/recruiting-sw-project/Driverless/recovered.png\")\n",
        "x, y, z= image.shape\n",
        "resize_x= x/416\n",
        "resize_y= y/416\n",
        "\n",
        "with open(\"/content/bounding_boxes.txt\", \"w\") as file:\n",
        "  with open('/content/yolov5/runs/detect/exp/labels/recovered.txt', 'r') as f:\n",
        "      lines = f.readlines()\n",
        "      for line in lines:\n",
        "        l=line.strip().split()\n",
        "        l=[float(li) for li in l]\n",
        "        l=[li*255 for li in l]\n",
        "        bbox = (l[1] * resize_x, l[2] * resize_y, l[3] * resize_x, l[4] * resize_y)\n",
        "        file.write(f\"{bbox}\\n\")"
      ],
      "metadata": {
        "id": "q49giuJi79ai"
      },
      "execution_count": null,
      "outputs": []
    }
  ]
}